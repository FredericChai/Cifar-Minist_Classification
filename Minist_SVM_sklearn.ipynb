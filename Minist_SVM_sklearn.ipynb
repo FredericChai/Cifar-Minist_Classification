{
 "cells": [
  {
   "cell_type": "code",
   "execution_count": 2,
   "metadata": {},
   "outputs": [],
   "source": [
    "import h5py\n",
    "import scipy as sp\n",
    "import pandas as pd\n",
    "import timeit\n",
    "import matplotlib.pyplot as pl\n",
    "from numpy import *\n",
    "from sklearn.svm import SVC\n",
    "from sklearn.decomposition import PCA\n",
    "from sklearn.preprocessing import scale"
   ]
  },
  {
   "cell_type": "code",
   "execution_count": 6,
   "metadata": {},
   "outputs": [],
   "source": [
    "with h5py.File('images_training.h5','r') as H:\n",
    "    data_train = copy(H['data'])\n",
    "with h5py.File('labels_training.h5','r') as H:\n",
    "    label_train = copy(H['label'])\n",
    "with h5py.File('images_testing.h5 ','r') as H:\n",
    "    data_test = copy(H['data'])\n",
    "with h5py.File('labels_testing_2000.h5','r') as H:\n",
    "    label_test = copy(H['label'])"
   ]
  },
  {
   "cell_type": "code",
   "execution_count": null,
   "metadata": {},
   "outputs": [],
   "source": [
    "def pcaProcess(n=2):\n",
    "    #preprocess the data\n",
    "    pca = PCA(n_components=n)\n",
    "    data_PCA = empty(((30000,28,n)))\n",
    "    data_PCA_test = empty(((5000,28,n)))\n",
    "    #convert the test data by PCA\n",
    "    for i in range(5000):\n",
    "        pca.fit(data_test[i])\n",
    "        data_PCA_test[i] = pca.transform(data_test[i])\n",
    "    #convert the trainning data using PCA\n",
    "    for i in range(30000):\n",
    "        pca.fit(data_train[i])\n",
    "        data_PCA[i] = pca.transform(data_train[i])"
   ]
  },
  {
   "cell_type": "code",
   "execution_count": null,
   "metadata": {},
   "outputs": [],
   "source": [
    "#reshape the trainning data\n",
    "def load(data,label): #categories defalt by 1\n",
    "    m = shape(data)[0]\n",
    "    data_2D = data.reshape(m,-1)    \n",
    "    return data_2D,label\n",
    "#load the test sample\n",
    "def loadTest(data):\n",
    "    m = shape(data)[0]\n",
    "    data_2D = data.reshape(m,-1)\n",
    "    return data_2D\n",
    "#load and scale the data\n",
    "data_x, data_y = load(data_train,label_train)\n",
    "data_t_x = loadTest(data_test[0:2000])\n",
    "#scale the data\n",
    "data_xs = scale(data_x)\n",
    "data_t_xs = scale(data_t_x)"
   ]
  },
  {
   "cell_type": "code",
   "execution_count": 14,
   "metadata": {},
   "outputs": [
    {
     "name": "stdout",
     "output_type": "stream",
     "text": [
      "Polynomial kernel: \n",
      "C =  1.0   Accuracy:  0.8635 Total time : 268.04132268499234 s\n",
      "Polynomial kernel: \n",
      "C =  5.0   Accuracy:  0.8815 Total time : 207.3765171559935 s\n",
      "Polynomial kernel: \n",
      "C =  10.0   Accuracy:  0.8815 Total time : 202.9561198619922 s\n",
      "Polynomial kernel: \n",
      "C =  20.0   Accuracy:  0.8855 Total time : 197.463260094999 s\n",
      "Polynomial kernel: \n",
      "C =  25.0   Accuracy:  0.8855 Total time : 199.11837420800293 s\n",
      "Polynomial kernel: \n",
      "C =  30.0   Accuracy:  0.886 Total time : 197.06365760100016 s\n",
      "Polynomial kernel: \n",
      "C =  40.0   Accuracy:  0.8875 Total time : 198.78315202899103 s\n",
      "Polynomial kernel: \n",
      "C =  45.0   Accuracy:  0.889 Total time : 198.31418123900949 s\n",
      "Polynomial kernel: \n",
      "C =  50.0   Accuracy:  0.8865 Total time : 197.35751045899815 s\n",
      "Polynomial kernel: \n",
      "C =  55.0   Accuracy:  0.887 Total time : 198.02893001399934 s\n",
      "Polynomial kernel: \n",
      "C =  60.0   Accuracy:  0.887 Total time : 198.02219055399473 s\n",
      "Polynomial kernel: \n",
      "C =  100.0   Accuracy:  0.886 Total time : 197.26070878900646 s\n"
     ]
    }
   ],
   "source": [
    "#polynomial kernel with scaled data\n",
    "poly_C = [1.0,5.0,10.0,20.0,25.0,30.0,40.0,45.0,50.0,55.0,60.0,100.0]\n",
    "print(\"Polynomial kernel: \")\n",
    "for i in poly_C:\n",
    "    start_time = timeit.default_timer()     \n",
    "    #predict the result\n",
    "    clf = SVC(C=i, cache_size=200, class_weight=None, coef0=0.0,\n",
    "        decision_function_shape='ovr', degree=3, gamma='auto', kernel='poly',\n",
    "        max_iter=-1, probability=False, random_state=None, shrinking=True,\n",
    "        tol=0.0001, verbose=False)\n",
    "    clf.fit(data_xs,data_y)\n",
    "    socre = clf.score(data_t_xs,label_test)\n",
    "\n",
    "    print(\"C = \",i,\"  Accuracy: \",socre, \"Total time :\", timeit.default_timer() - start_time , 's')"
   ]
  },
  {
   "cell_type": "code",
   "execution_count": 7,
   "metadata": {},
   "outputs": [
    {
     "name": "stdout",
     "output_type": "stream",
     "text": [
      "RBF kernel: \n",
      "C =  1.0   Accuracy:  0.874 Total time : 214.47822553300648 s\n",
      "C =  5.0   Accuracy:  0.886 Total time : 202.9001193419972 s\n",
      "C =  10.0   Accuracy:  0.889 Total time : 207.3910313109809 s\n",
      "C =  20.0   Accuracy:  0.891 Total time : 206.89166151802056 s\n",
      "C =  25.0   Accuracy:  0.889 Total time : 207.39672010601498 s\n",
      "C =  30.0   Accuracy:  0.8875 Total time : 205.33519326199894 s\n",
      "C =  40.0   Accuracy:  0.8855 Total time : 206.40442605901626 s\n",
      "C =  45.0   Accuracy:  0.8855 Total time : 207.9861193280085 s\n",
      "C =  50.0   Accuracy:  0.887 Total time : 207.1897000800236 s\n",
      "C =  55.0   Accuracy:  0.8865 Total time : 207.8966277760046 s\n",
      "C =  60.0   Accuracy:  0.888 Total time : 207.28499795598327 s\n",
      "C =  100.0   Accuracy:  0.889 Total time : 206.9957133360149 s\n"
     ]
    }
   ],
   "source": [
    "# rbf kernel with different C\n",
    "rbf_C = [1.0,5.0,10.0,20.0,25.0,30.0,40.0,45.0,50.0,55.0,60.0,100.0]\n",
    "print(\"RBF kernel: \")\n",
    "for i in rbf_C:\n",
    "    start_time = timeit.default_timer()     \n",
    "    #predict the result\n",
    "    clf = SVC(C=i, cache_size=200, class_weight=None, coef0=0.0,\n",
    "        decision_function_shape='ovr', degree=3, gamma='auto', kernel='rbf',\n",
    "        max_iter=-1, probability=False, random_state=None, shrinking=True,\n",
    "        tol=0.0001, verbose=False)\n",
    "    clf.fit(data_xs,data_y)\n",
    "    print(\"C = \",i,\"  Accuracy: \",clf.score(data_t_xs,label_test), \"Total time :\", timeit.default_timer() - start_time , 's')"
   ]
  },
  {
   "cell_type": "code",
   "execution_count": 7,
   "metadata": {},
   "outputs": [],
   "source": [
    "# Linear kernel with different C\n",
    "lin_C = [1.0,5.0,10.0]\n",
    "print(\"linear kernel\")\n",
    "for i in lin_C:\n",
    "    start_time = timeit.default_timer()     \n",
    "    #predict the result\n",
    "    clf = SVC(C=i, cache_size=200, class_weight=None, coef0=0.0,\n",
    "        decision_function_shape='ovr', degree=3, gamma='auto', kernel='linear',\n",
    "        max_iter=-1, probability=False, random_state=None, shrinking=True,\n",
    "        tol=0.0001, verbose=False)\n",
    "    clf.fit(data_xs,data_y)\n",
    "    print(\"C = \",i,\"  Accuracy: \",clf.score(data_t_xs,label_test), \"Total time :\", timeit.default_timer() - start_time , 's')\n",
    "    "
   ]
  },
  {
   "cell_type": "code",
   "execution_count": 12,
   "metadata": {},
   "outputs": [
    {
     "name": "stdout",
     "output_type": "stream",
     "text": [
      "tol =  0.1   Accuracy:  0.891 Total time : 541.5213292080152 s\n",
      "tol =  0.001   Accuracy:  0.891 Total time : 548.540484208992 s\n",
      "tol =  0.0001   Accuracy:  0.891 Total time : 564.2143920719973 s\n"
     ]
    }
   ],
   "source": [
    "# rbf kernel with different tolerance\n",
    "tol = [0.1,0.001,0.0001]\n",
    "for i in tol:\n",
    "    start_time = timeit.default_timer()     \n",
    "    #predict the result\n",
    "    clf = SVC(C=20, cache_size=200, class_weight=None, coef0=0.0,\n",
    "        decision_function_shape='ovr', degree=3, gamma='auto', kernel='rbf',\n",
    "        max_iter=-1, probability=False, random_state=None, shrinking=True,\n",
    "        tol=i, verbose=False)\n",
    "    clf.fit(data_xs,data_y)\n",
    "    clf.score(data_xs,data_y)\n",
    "    print(\"tol = \",i,\"  Accuracy: \",clf.score(data_t_xs,label_test), \"Total time :\", timeit.default_timer() - start_time , 's')"
   ]
  }
 ],
 "metadata": {
  "kernelspec": {
   "display_name": "Python 3",
   "language": "python",
   "name": "python3"
  },
  "language_info": {
   "codemirror_mode": {
    "name": "ipython",
    "version": 3
   },
   "file_extension": ".py",
   "mimetype": "text/x-python",
   "name": "python",
   "nbconvert_exporter": "python",
   "pygments_lexer": "ipython3",
   "version": "3.6.5"
  }
 },
 "nbformat": 4,
 "nbformat_minor": 2
}
